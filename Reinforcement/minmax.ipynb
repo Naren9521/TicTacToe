{
  "cells": [
    {
      "cell_type": "code",
      "execution_count": 1,
      "metadata": {
        "id": "6_6bNbqHvg7O"
      },
      "outputs": [],
      "source": [
        "parent_child = {}\n",
        "visited_list = []\n",
        "terminals = []\n",
        "Scores = {}\n",
        "levels = {}\n",
        "child_parent = {}\n",
        "child_parent['---------'] = [None]"
      ]
    },
    {
      "cell_type": "code",
      "execution_count": 33,
      "metadata": {
        "id": "e_LE_nluvg7S"
      },
      "outputs": [],
      "source": [
        "def stateGenerator(intial_state, pos, player):\n",
        "    state = \"\"\n",
        "    for i, row in enumerate(intial_state):\n",
        "        if row != 'X' and row != 'O' and i == pos:\n",
        "            state += player\n",
        "        else:\n",
        "            state += row\n",
        "    if state == intial_state:\n",
        "        return None\n",
        "    return state\n",
        "def Terminal_State(State):\n",
        "    if State[0] == State[1] == State[2] =='O':\n",
        "        return(True,-1)\n",
        "    elif State[3] == State[4] == State[5] == 'O':\n",
        "        return(True,-1)\n",
        "    elif State[6] == State[7] == State[8] =='O':\n",
        "        return(True,-1)\n",
        "    elif State[0] == State[3] == State[6] =='O':\n",
        "        return(True,-1)\n",
        "    elif State[1] == State[4] == State[7] =='O':\n",
        "        return(True,-1)\n",
        "    elif State[2] == State[5] == State[8] =='O':\n",
        "        return(True,-1)\n",
        "    elif State[0] == State[4] == State[8] =='O':\n",
        "        return(True,-1)\n",
        "    elif State[2] == State[4] == State[6] =='O':\n",
        "        return(True,-1)\n",
        "    if State[0] == State[1] == State[2] =='X':\n",
        "        return(True,1)\n",
        "    elif State[3] == State[4] == State[5] == 'X':\n",
        "        return(True,1)\n",
        "    elif State[6] == State[7] == State[8] =='X':\n",
        "        return(True,1)\n",
        "    elif State[0] == State[3] == State[6] =='X':\n",
        "        return(True,1)\n",
        "    elif State[1] == State[4] == State[7] =='X':\n",
        "        return(True,1)\n",
        "    elif State[2] == State[5] == State[8] =='X':\n",
        "        return(True,1)\n",
        "    elif State[0] == State[4] == State[8] =='X':\n",
        "        return(True,1)\n",
        "    elif State[2] == State[4] == State[6] =='X':\n",
        "        return(True,1)\n",
        "\n",
        "    for i in State:\n",
        "        if i =='-':\n",
        "            return(False,0)\n",
        "    return(True,0)\n",
        "def isTerminal(state):\n",
        "    return Terminal_State(state)[0]\n",
        "def winning_score(state):\n",
        "    return Terminal_State(state)[1]"
      ]
    },
    {
      "cell_type": "code",
      "execution_count": 3,
      "metadata": {
        "id": "0eoximewvg7S"
      },
      "outputs": [],
      "source": [
        "def Tree(node):\n",
        "    fringe = []\n",
        "    fringe.append(node)\n",
        "    while len(fringe) != 0:\n",
        "        p = fringe.pop(0)\n",
        "        yield p\n",
        "        if (p.count('X') + p.count('O')) % 2 == 0:\n",
        "            player = 'X'\n",
        "            Scores[p] = winning_score(p)\n",
        "        else:\n",
        "            player = 'O'\n",
        "            Scores[p] = winning_score(p)\n",
        "        if not isTerminal(p):\n",
        "            childs = generate_childs(p, player)\n",
        "            parent_child[p] = childs\n",
        "            for c in childs:\n",
        "                fringe.append(c)\n",
        "        else:\n",
        "            if p not in terminals:\n",
        "                terminals.append(p)\n",
        "            parent_child[p] = childs\n",
        "\n",
        "def generate_childs(node, player):\n",
        "    children = []\n",
        "    if player == 'X':\n",
        "        for j, row in enumerate(node):\n",
        "            state = stateGenerator(node, j, player)\n",
        "            if state is not None:\n",
        "                children.append(state)\n",
        "                if state not in child_parent.keys():\n",
        "                    child_parent[state] = []\n",
        "                child_parent[state].append(node)\n",
        "    else:\n",
        "        for j, row in enumerate(node):\n",
        "            state = stateGenerator(node, j, player)\n",
        "            if state is not None:\n",
        "                children.append(state)\n",
        "                if state not in child_parent.keys():\n",
        "                    child_parent[state] = []\n",
        "                child_parent[state].append(node)\n",
        "\n",
        "    return children\n"
      ]
    },
    {
      "cell_type": "code",
      "execution_count": 4,
      "metadata": {
        "id": "8DQlzBAbvg7T"
      },
      "outputs": [],
      "source": [
        "Scores['---------'] = 0\n",
        "start_node = '---------'\n",
        "k = list(Tree(start_node))\n",
        "import json\n",
        "with open('Tree.json', 'w+') as f:\n",
        "    json.dump(parent_child, f)\n",
        "\n",
        "with open('child_parent.json', 'r') as f:\n",
        "  child_parent = json.load(f)\n"
      ]
    },
    {
      "cell_type": "code",
      "execution_count": 5,
      "metadata": {
        "id": "k-7Uu0QrCThN"
      },
      "outputs": [],
      "source": [
        "alpha = 0.10\n",
        "def update_helper(i):\n",
        "    global alpha\n",
        "    parents = child_parent[i]\n",
        "    t1 = Scores[i]\n",
        "    if parents[0] is not None:\n",
        "        for j in parents:\n",
        "            t2 = Scores[j]\n",
        "            updated_value = t2 + alpha * (t1 - t2)\n",
        "            Scores[j] = updated_value\n",
        "            t1 = updated_value\n",
        "            update_helper(j)\n",
        "\n",
        "def update_value():\n",
        "    for i in terminals*200:\n",
        "        update_helper(i)\n",
        "\n",
        "update_value()"
      ]
    },
    {
      "cell_type": "code",
      "source": [
        "print(len(parent_child))"
      ],
      "metadata": {
        "colab": {
          "base_uri": "https://localhost:8080/"
        },
        "id": "ctVY_71h0lCv",
        "outputId": "9a6c7444-8911-4127-c56b-cc47f04576d2"
      },
      "execution_count": 19,
      "outputs": [
        {
          "output_type": "stream",
          "name": "stdout",
          "text": [
            "5478\n"
          ]
        }
      ]
    },
    {
      "cell_type": "code",
      "execution_count": 34,
      "metadata": {
        "id": "3TOuQiAjIKxi"
      },
      "outputs": [],
      "source": [
        "def computer_move(state):\n",
        "    score_list = []\n",
        "    Score = 0\n",
        "    node = None\n",
        "    print(state)\n",
        "    for i in parent_child[state]:\n",
        "      print(i)\n",
        "      if Scores[i]>=Score:\n",
        "        Score = Scores[i]\n",
        "        node = i\n",
        "    return node\n",
        "\n",
        "def play_game():\n",
        "    state = \"---------\"\n",
        "    loop = True\n",
        "    while loop:\n",
        "        user_input = int(input(\"Enter the number between 0-8:\"))\n",
        "        state = stateGenerator(state, user_input, 'X')\n",
        "        if winning_score(state) == 1:\n",
        "            return \"You won\"\n",
        "        if winning_score(state) == -1:\n",
        "            return \"Computer won\"\n",
        "        if winning_score(state) == 0 and isTerminal(state):\n",
        "            return \"Match Draw\"\n",
        "        state = computer_move(state)\n",
        "        if winning_score(state) == 1:\n",
        "            return \"Computer won\"  # Adjust the return statement\n",
        "        if winning_score(state) == -1:\n",
        "            return \"You lose\"\n",
        "        if winning_score(state) == 0 and isTerminal(state):\n",
        "            return \"Match Draw\"\n",
        "\n",
        "        print('----------')\n",
        "        print(str(state[0]) + \" | \" + str(state[1]) + \" | \" + str(state[2]))\n",
        "        print('----------')\n",
        "        print(str(state[3]) + \" | \" + str(state[4]) + \" | \" + str(state[5]))\n",
        "        print('----------')\n",
        "        print(str(state[6]) + \" | \" + str(state[7]) + \" | \" + str(state[8]))\n",
        "        if '-' not in state:\n",
        "            loop = False"
      ]
    },
    {
      "cell_type": "code",
      "source": [
        "play_game()"
      ],
      "metadata": {
        "id": "2BFLz38Jz--G"
      },
      "execution_count": null,
      "outputs": []
    }
  ],
  "metadata": {
    "colab": {
      "provenance": []
    },
    "kernelspec": {
      "display_name": "base",
      "language": "python",
      "name": "python3"
    },
    "language_info": {
      "codemirror_mode": {
        "name": "ipython",
        "version": 3
      },
      "file_extension": ".py",
      "mimetype": "text/x-python",
      "name": "python",
      "nbconvert_exporter": "python",
      "pygments_lexer": "ipython3",
      "version": "3.9.13"
    }
  },
  "nbformat": 4,
  "nbformat_minor": 0
}